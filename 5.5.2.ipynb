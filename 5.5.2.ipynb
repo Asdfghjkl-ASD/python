{
 "cells": [
  {
   "cell_type": "code",
   "execution_count": 1,
   "id": "508d5584",
   "metadata": {},
   "outputs": [
    {
     "data": {
      "text/plain": [
       "(array([ 1.       , -0.2208835]),\n",
       " array([ 1.        , -0.18512235,  0.00673795]))"
      ]
     },
     "execution_count": 1,
     "metadata": {},
     "output_type": "execute_result"
    }
   ],
   "source": [
    "#library\n",
    "import numpy as np\n",
    "from scipy import signal\n",
    "\n",
    "#analog filter transfer function\n",
    "b_analog = np.array([1,1]) #numerator\n",
    "a_analog = np.array([1,5,6]) #denominator\n",
    "T = 1 #sampling period\n",
    "\n",
    "#impulse response invariable method\n",
    "r,p_analog,k = signal.residue(b_analog,a_analog) \n",
    "#r is coefficient, p_analog is pole in analog\n",
    "p_digital = np.exp(p_analog*T) #p_digital is pole in digital\n",
    "a_digital,b_digital = signal.invresz(r,p_digital,k)\n",
    "a_digital,b_digital #display values of denominator and numerator"
   ]
  }
 ],
 "metadata": {
  "kernelspec": {
   "display_name": "Python 3 (ipykernel)",
   "language": "python",
   "name": "python3"
  },
  "language_info": {
   "codemirror_mode": {
    "name": "ipython",
    "version": 3
   },
   "file_extension": ".py",
   "mimetype": "text/x-python",
   "name": "python",
   "nbconvert_exporter": "python",
   "pygments_lexer": "ipython3",
   "version": "3.11.4"
  }
 },
 "nbformat": 4,
 "nbformat_minor": 5
}
